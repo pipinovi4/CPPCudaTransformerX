{
 "cells": [
  {
   "cell_type": "markdown",
   "id": "20c68b26-6702-49b2-969f-eb1ca9095f36",
   "metadata": {},
   "source": [
    "# Baseline Digit Recognition (PyTorch)\n",
    "\n",
    "\n",
    "**WORKFLOWS**\n",
    "\n",
    "**Load and Prepare Dataset:** \n",
    "* Import necessary libraries.\n",
    "* Load the MNIST dataset using torchvision.\n",
    "* Normalize and transform the dataset.\n",
    "* Create data loaders for training and testing.\n",
    "\n",
    "**Implement FFN Class:** \n",
    "* Define a class for the Feedforward Neural Network (FFN) with three dense layers.\n",
    "* Implement the forward pass method.\n",
    "\n",
    "**Define Training Loop:**\n",
    "* Set up the loss function and optimizer.\n",
    "* Implement the training loop.\n",
    "* Include methods of regularization (e.g., dropout, weight decay)."
   ]
  },
  {
   "cell_type": "code",
   "execution_count": 484,
   "id": "6fe12999-88d4-4ddb-abc4-1d978ddc199c",
   "metadata": {},
   "outputs": [
    {
     "data": {
      "text/html": [
       "\n",
       "    <div style=\"display: flex;  border: 1px solid black; padding: 10px 10px 10px 100px; margin: 10px;\">\n",
       "        <h2>Last run notebook: <span style=\"font-size:18px\">2024-07-30 16:36:34</span></h2>\n",
       "        <h2 style=\"margin-left: 5%; margin-top: 1.3%\">Accuracy baseline: <span style=\"font-size:18px\">95.76%</span></h2>\n",
       "        <h2 style=\"margin-left: 5%; margin-top: 1.3%\">Total number of parameters: <span style=\"font-size:18px\">55 050</span></h2>\n",
       "    </div>\n",
       "    "
      ],
      "text/plain": [
       "<IPython.core.display.HTML object>"
      ]
     },
     "metadata": {},
     "output_type": "display_data"
    }
   ],
   "source": [
    "from IPython.display import display, HTML\n",
    "from datetime import datetime\n",
    "\n",
    "def display_last_setup_notebook():\n",
    "    current_time = datetime.now().strftime(\"%Y-%m-%d %H:%M:%S\")\n",
    "    html_content = f\"\"\"\n",
    "    <div style=\"display: flex;  border: 1px solid black; padding: 10px 10px 10px 100px; margin: 10px;\">\n",
    "        <h2>Last run notebook: <span style=\"font-size:18px\">{current_time}</span></h2>\n",
    "        <h2 style=\"margin-left: 5%; margin-top: 1.3%\">Accuracy baseline: <span style=\"font-size:18px\">95.76%</span></h2>\n",
    "        <h2 style=\"margin-left: 5%; margin-top: 1.3%\">Total number of parameters: <span style=\"font-size:18px\">55 050</span></h2>\n",
    "    </div>\n",
    "    \"\"\"\n",
    "    display(HTML(html_content))\n",
    "\n",
    "# Call the function to display the cell\n",
    "display_last_setup_notebook()"
   ]
  },
  {
   "cell_type": "markdown",
   "id": "a17cfed5-5746-4b38-928d-346e41967ebc",
   "metadata": {},
   "source": [
    "## Load and Prepare Dataset"
   ]
  },
  {
   "cell_type": "markdown",
   "id": "de31dbeb-4390-42a8-a2d4-17226735dfa1",
   "metadata": {},
   "source": [
    "### Import all necessary libraries"
   ]
  },
  {
   "cell_type": "code",
   "execution_count": 163,
   "id": "27f4f2be-ba62-4230-a3a0-074a92ceac9d",
   "metadata": {
    "jupyter": {
     "is_executing": true
    }
   },
   "outputs": [],
   "source": [
    "import torch \n",
    "import torch.nn as nn\n",
    "import numpy as np\n",
    "import torchvision.transforms as transforms\n",
    "import matplotlib.pyplot as plt\n",
    "import random\n",
    "from torch.nn.functional import relu\n",
    "from torch.nn import MSELoss\n",
    "import torchvision"
   ]
  },
  {
   "cell_type": "markdown",
   "id": "0962f24c-45f8-4a26-bb16-89e8323e1c45",
   "metadata": {},
   "source": [
    "### Loading the MNIST dataset into the working directory"
   ]
  },
  {
   "cell_type": "code",
   "execution_count": 242,
   "id": "d44c6f19-2217-4758-a1d2-7b048e25f802",
   "metadata": {},
   "outputs": [
    {
     "name": "stdout",
     "output_type": "stream",
     "text": [
      "Amount of data: 60000\n",
      "\n",
      "Amount of labels: 60000\n"
     ]
    }
   ],
   "source": [
    "mnist_dataset = torchvision.datasets.MNIST(\"../data\", download=False)\n",
    "data = mnist_dataset.data.numpy()\n",
    "targets = mnist_dataset.targets.numpy()\n",
    "\n",
    "data_length = len(data)\n",
    "targets_length = len(targets)\n",
    "\n",
    "print(\"Amount of data: %s\\n\\nAmount of labels: %s\" % (data_length, targets_length))"
   ]
  },
  {
   "cell_type": "markdown",
   "id": "8cc631c9-3702-4617-b7fc-c12efc54895f",
   "metadata": {},
   "source": [
    "### Define custom dataset class "
   ]
  },
  {
   "cell_type": "code",
   "execution_count": 243,
   "id": "c9509e7c-cdad-49d1-a30a-c251ca2a0b1f",
   "metadata": {
    "jupyter": {
     "is_executing": true
    }
   },
   "outputs": [],
   "source": [
    "# Custom Dataset class\n",
    "class CustomMNISTDataset(Dataset):\n",
    "    def __init__(self, data, labels, transform=None):\n",
    "        self.data = data\n",
    "        self.labels = labels\n",
    "        self.transform = transform\n",
    "\n",
    "    def __len__(self):\n",
    "        return len(self.data)\n",
    "\n",
    "    def __getitem__(self, idx):\n",
    "        sample = self.data[idx]\n",
    "        label = self.labels[idx]\n",
    "        if self.transform:\n",
    "            sample = self.transform(sample)\n",
    "        return sample, label"
   ]
  },
  {
   "cell_type": "markdown",
   "id": "7d4d2a93-c5df-4483-81f4-97504c859ba3",
   "metadata": {},
   "source": [
    "### Split dataset into train and test parts"
   ]
  },
  {
   "cell_type": "code",
   "execution_count": 244,
   "id": "e95995f5-62ce-4f47-a5af-27b4c7b4d4d5",
   "metadata": {},
   "outputs": [],
   "source": [
    "percent_train_data = 0.8\n",
    "train_data_length = int(data_length * percent_train_data)\n",
    "\n",
    "train_data = data[:train_data_length]\n",
    "test_data = data[train_data_length:]\n",
    "\n",
    "train_labels = targets[:train_data_length]\n",
    "test_labels = targets[train_data_length:]"
   ]
  },
  {
   "cell_type": "markdown",
   "id": "4a4be8aa-7063-4d8e-8c70-546fba950dca",
   "metadata": {},
   "source": [
    "### Create dataloader and transform them"
   ]
  },
  {
   "cell_type": "code",
   "execution_count": 245,
   "id": "a02cd8d0-6845-4d8d-9d0b-10aeb702626a",
   "metadata": {},
   "outputs": [
    {
     "name": "stdout",
     "output_type": "stream",
     "text": [
      "torch.Size([128, 1, 28, 28]) torch.Size([128])\n",
      "torch.Size([128, 1, 28, 28]) torch.Size([128])\n"
     ]
    }
   ],
   "source": [
    "transform = transforms.Compose([transforms.ToTensor(), transforms.Normalize((0.5,), (0.5,))])\n",
    "\n",
    "train_dataset = CustomMNISTDataset(train_data, train_labels, transform=transform)\n",
    "test_dataset = CustomMNISTDataset(test_data, test_labels, transform=transform)\n",
    "\n",
    "train_loader = DataLoader(train_dataset, batch_size=128, shuffle=True)\n",
    "test_loader = DataLoader(test_dataset, batch_size=128, shuffle=True)\n",
    "\n",
    "train_batch = next(iter(train_loader))\n",
    "test_batch = next(iter(test_loader))\n",
    "print(train_batch[0].shape, train_batch[1].shape)\n",
    "print(test_batch[0].shape, test_batch[1].shape)"
   ]
  },
  {
   "cell_type": "code",
   "execution_count": 248,
   "id": "26d92f4f-883e-4f82-b78b-ef20b391dc87",
   "metadata": {},
   "outputs": [
    {
     "data": {
      "image/png": "[encoded data removed]",
      "text/plain": [
       "<Figure size 640x480 with 1 Axes>"
      ]
     },
     "metadata": {},
     "output_type": "display_data"
    }
   ],
   "source": [
    "def show_random_image():\n",
    "    random_index = random.randint(0, train_data_length)\n",
    "    image, label = train_loader.dataset[random_index][0].squeeze(), train_loader.dataset[random_index][1]\n",
    "    plt.title(f\"Normalized image. Label is {label}\")\n",
    "    plt.imshow(image);\n",
    "\n",
    "show_random_image()"
   ]
  },
  {
   "cell_type": "markdown",
   "id": "647ad785-e345-4c4f-bc32-6afe10d1e57a",
   "metadata": {},
   "source": [
    "## Implementation of the FFN "
   ]
  },
  {
   "cell_type": "markdown",
   "id": "63b8496a-c75c-4dcc-be15-97ebd6070e5f",
   "metadata": {},
   "source": [
    "### Definetion FFN class costructor "
   ]
  },
  {
   "cell_type": "code",
   "execution_count": 254,
   "id": "376e53ef-5195-4b2b-af72-b19cb8abc2f4",
   "metadata": {},
   "outputs": [],
   "source": [
    "class DigitRecognizer(nn.Module):\n",
    "    def __init__(self, input_dim, hidden_dim, output_dim):\n",
    "        super(DigitRecognizer, self).__init__()\n",
    "        self.input = nn.Linear(input_dim, hidden_dim)\n",
    "        self.activation1 = nn.ReLU()\n",
    "        self.fc = nn.Linear(hidden_dim, hidden_dim)\n",
    "        self.activation2 = nn.ReLU()\n",
    "        self.output = nn.Linear(hidden_dim, output_dim)\n",
    "        self.softmax = nn.Softmax(dim=1)\n",
    "\n",
    "    def forward(self, x):\n",
    "        x = x.view(x.size(0), -1)  # Flatten the input\n",
    "        x = self.input(x)\n",
    "        x = self.activation1(x)\n",
    "        x = self.fc(x)\n",
    "        x = self.activation2(x)\n",
    "        x = self.output(x)\n",
    "        output = self.softmax(x)\n",
    "        return output"
   ]
  },
  {
   "cell_type": "markdown",
   "id": "acac67ec-e1c3-46db-ace9-fc616f4e9f46",
   "metadata": {},
   "source": [
    "### Implement train loop and set up the loss function and optimizer "
   ]
  },
  {
   "cell_type": "code",
   "execution_count": 260,
   "id": "a275a00b-48ce-4360-af2e-4b88392fb65a",
   "metadata": {},
   "outputs": [],
   "source": [
    "IMAGE_SHAPE = (28, 28)\n",
    "INPUT_DIMENSIONS = IMAGE_SHAPE[0] * IMAGE_SHAPE[1]\n",
    "HIDDEN_DIMENSIONS = 64\n",
    "OUTPUT_DIMENSIONS = len(mnist_dataset.classes)\n",
    "EPOCHS = 5\n",
    "LEARNING_RATE = 0.001\n",
    "\n",
    "model = DigitRecognizer(INPUT_DIMENSIONS, HIDDEN_DIMENSIONS, OUTPUT_DIMENSIONS)\n",
    "optimizer = torch.optim.Adam(model.parameters(), lr=LEARNING_RATE)\n",
    "loss_function = nn.CrossEntropyLoss()"
   ]
  },
  {
   "cell_type": "code",
   "execution_count": 265,
   "id": "0891f9ec-49f7-49f8-9d1e-2a66d9d5e876",
   "metadata": {},
   "outputs": [],
   "source": [
    "def train_model(model, epochs, loss_function, optimizer):\n",
    "    for epoch in range(epochs):\n",
    "        for images, targets in train_loader:\n",
    "            optimizer.zero_grad()  # Zero the gradients\n",
    "            output = model(images)  # Forward pass\n",
    "            loss = loss_function(output, targets)  # Compute loss\n",
    "            loss.backward()  # Backward pass\n",
    "            optimizer.step()  # Update weights\n",
    "\n",
    "        print(\"Epoch: %d - Loss: %.4f\" % (epoch + 1, loss.item()))"
   ]
  },
  {
   "cell_type": "markdown",
   "id": "d03c7ec4-a2f3-40f7-91cb-0993a2d80992",
   "metadata": {},
   "source": [
    "### Train the model and make predictions"
   ]
  },
  {
   "cell_type": "code",
   "execution_count": 266,
   "id": "99a4095d-a34a-48c1-8dcf-3a15a3825364",
   "metadata": {},
   "outputs": [
    {
     "name": "stdout",
     "output_type": "stream",
     "text": [
      "Epoch: 1 - Loss: 1.5147\n",
      "Epoch: 2 - Loss: 1.5663\n",
      "Epoch: 3 - Loss: 1.5338\n",
      "Epoch: 4 - Loss: 1.5145\n",
      "Epoch: 5 - Loss: 1.4942\n"
     ]
    }
   ],
   "source": [
    "train_model(model, EPOCHS, loss_function, optimizer)"
   ]
  },
  {
   "cell_type": "code",
   "execution_count": 267,
   "id": "b04f2349-a624-43fe-a6d6-3a1b74f8645f",
   "metadata": {},
   "outputs": [],
   "source": [
    "def evaluate_model(model, test_loader):\n",
    "    model.eval()  # Set the model to evaluation mode\n",
    "    correct = 0\n",
    "    total = 0\n",
    "\n",
    "    with torch.no_grad():  # Disable gradient calculation\n",
    "        for images, targets in test_loader:\n",
    "            output = model(images)  # Forward pass\n",
    "            _, predicted = torch.max(output.data, 1)  # Get the index of the max log-probability\n",
    "            total += targets.size(0)\n",
    "            correct += (predicted == targets).sum().item()\n",
    "\n",
    "    accuracy = 100 * correct / total\n",
    "    print(\"Accuracy: %.2f%%\" % accuracy)\n",
    "    return accuracy"
   ]
  },
  {
   "cell_type": "code",
   "execution_count": 459,
   "id": "0fea4d36-9e93-40ab-b1fa-2beb08779d96",
   "metadata": {},
   "outputs": [
    {
     "name": "stdout",
     "output_type": "stream",
     "text": [
      "Accuracy: 95.76%\n"
     ]
    }
   ],
   "source": [
    "model_accuracy = evaluate_model(model, test_loader)"
   ]
  },
  {
   "cell_type": "code",
   "execution_count": 452,
   "id": "db8061f4-5c41-42c1-98ce-debeeb2c88c2",
   "metadata": {},
   "outputs": [
    {
     "name": "stdout",
     "output_type": "stream",
     "text": [
      "Total number of parameters: 55050\n"
     ]
    }
   ],
   "source": [
    "def count_parameters(model):\n",
    "    return sum(p.numel() for p in model.parameters() if p.requires_grad)\n",
    "\n",
    "total_params = count_parameters(model)\n",
    "print(f\"Total number of parameters: {total_params}\")"
   ]
  },
  {
   "cell_type": "markdown",
   "id": "11c2d7cc-97d7-4c62-9bdf-37348cadb6b8",
   "metadata": {},
   "source": [
    "#### A method for visually observing the abstract behavior of a model "
   ]
  },
  {
   "cell_type": "code",
   "execution_count": 504,
   "id": "e63a9b7f-2dc8-4e8d-bd05-b61f1fb1f00b",
   "metadata": {},
   "outputs": [],
   "source": [
    "def predict_and_plot(model, image, label):\n",
    "    model.eval() \n",
    "    with torch.no_grad():  \n",
    "        output = model(image.unsqueeze(0)) \n",
    "        _, predicted = torch.max(output.data, 1)  \n",
    "\n",
    "    plt.imshow(image.squeeze(), cmap='gray')\n",
    "    if predicted.item() == label:\n",
    "        plt.title(f\"Prediction: {predicted.item()} (Correct)\", color='green')\n",
    "    else:\n",
    "        plt.title(f\"Prediction: {predicted.item()} (Incorrect)\", color='red')\n",
    "    plt.show()"
   ]
  },
  {
   "cell_type": "code",
   "execution_count": 551,
   "id": "3bf8094c-e55d-4cce-af69-d3a63a6b860f",
   "metadata": {},
   "outputs": [
    {
     "data": {
      "image/png": "[encoded data removed]",
      "text/plain": [
       "<Figure size 640x480 with 1 Axes>"
      ]
     },
     "metadata": {},
     "output_type": "display_data"
    }
   ],
   "source": [
    "random_index = torch.randint(len(test_dataset), (1,)).item()\n",
    "random_image, random_label = test_dataset[random_index]\n",
    "predict_and_plot(model, random_image, random_label)"
   ]
  },
  {
   "cell_type": "code",
   "execution_count": null,
   "id": "cc31b37b-19e5-4a19-ae98-be2e766e5e53",
   "metadata": {},
   "outputs": [],
   "source": []
  },
  {
   "cell_type": "code",
   "execution_count": null,
   "id": "7ec3969b-906f-4a07-a14f-02c8aafc8734",
   "metadata": {},
   "outputs": [],
   "source": []
  }
 ],
 "metadata": {
  "kernelspec": {
   "display_name": "Python 3 (ipykernel)",
   "language": "python",
   "name": "python3"
  },
  "language_info": {
   "codemirror_mode": {
    "name": "ipython",
    "version": 3
   },
   "file_extension": ".py",
   "mimetype": "text/x-python",
   "name": "python",
   "nbconvert_exporter": "python",
   "pygments_lexer": "ipython3",
   "version": "3.12.3"
  }
 },
 "nbformat": 4,
 "nbformat_minor": 5
}
